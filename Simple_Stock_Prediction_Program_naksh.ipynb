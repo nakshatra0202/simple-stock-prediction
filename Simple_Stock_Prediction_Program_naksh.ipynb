{
  "cells": [
    {
      "cell_type": "code",
      "execution_count": null,
      "metadata": {
        "colab": {
          "background_save": true
        },
        "id": "mmX8o7WjvsQS",
        "outputId": "5ce0e0f8-7d1c-4d13-dfe3-25a920683d33"
      },
      "outputs": [
        {
          "name": "stdout",
          "output_type": "stream",
          "text": [
            "Requirement already satisfied: quandl in /usr/local/lib/python3.7/dist-packages (3.6.1)\n",
            "Requirement already satisfied: python-dateutil in /usr/local/lib/python3.7/dist-packages (from quandl) (2.8.2)\n",
            "Requirement already satisfied: numpy>=1.8 in /usr/local/lib/python3.7/dist-packages (from quandl) (1.19.5)\n",
            "Requirement already satisfied: requests>=2.7.0 in /usr/local/lib/python3.7/dist-packages (from quandl) (2.23.0)\n",
            "Requirement already satisfied: pandas>=0.14 in /usr/local/lib/python3.7/dist-packages (from quandl) (1.1.5)\n",
            "Requirement already satisfied: more-itertools in /usr/local/lib/python3.7/dist-packages (from quandl) (8.8.0)\n",
            "Requirement already satisfied: inflection>=0.3.1 in /usr/local/lib/python3.7/dist-packages (from quandl) (0.5.1)\n",
            "Requirement already satisfied: six in /usr/local/lib/python3.7/dist-packages (from quandl) (1.15.0)\n",
            "Requirement already satisfied: pytz>=2017.2 in /usr/local/lib/python3.7/dist-packages (from pandas>=0.14->quandl) (2018.9)\n",
            "Requirement already satisfied: chardet<4,>=3.0.2 in /usr/local/lib/python3.7/dist-packages (from requests>=2.7.0->quandl) (3.0.4)\n",
            "Requirement already satisfied: certifi>=2017.4.17 in /usr/local/lib/python3.7/dist-packages (from requests>=2.7.0->quandl) (2021.5.30)\n",
            "Requirement already satisfied: idna<3,>=2.5 in /usr/local/lib/python3.7/dist-packages (from requests>=2.7.0->quandl) (2.10)\n",
            "Requirement already satisfied: urllib3!=1.25.0,!=1.25.1,<1.26,>=1.21.1 in /usr/local/lib/python3.7/dist-packages (from requests>=2.7.0->quandl) (1.24.3)\n"
          ]
        }
      ],
      "source": [
        "pip install quandl\n"
      ]
    },
    {
      "cell_type": "code",
      "execution_count": null,
      "metadata": {
        "colab": {
          "background_save": true
        },
        "id": "JjelCuaSzzlD"
      },
      "outputs": [],
      "source": [
        "#This is a stock prediction program by using ML models\n",
        "#Install the dependencies\n",
        "import quandl\n",
        "import numpy as np\n",
        "from sklearn.linear_model import LinearRegression\n",
        "from sklearn.svm import SVR\n",
        "from sklearn.model_selection import train_test_split\n"
      ]
    },
    {
      "cell_type": "code",
      "execution_count": null,
      "metadata": {
        "colab": {
          "background_save": true
        },
        "id": "LN6St60p0eG2",
        "outputId": "8f642442-a4a4-4e50-ae99-8e0eb658d40d"
      },
      "outputs": [
        {
          "name": "stdout",
          "output_type": "stream",
          "text": [
            "             Open   High    Low  ...  Adj. Low  Adj. Close  Adj. Volume\n",
            "Date                             ...                                   \n",
            "2012-05-18  42.05  45.00  38.00  ...     38.00     38.2318  573576400.0\n",
            "2012-05-21  36.53  36.66  33.00  ...     33.00     34.0300  168192700.0\n",
            "2012-05-22  32.61  33.59  30.94  ...     30.94     31.0000  101786600.0\n",
            "2012-05-23  31.37  32.50  31.36  ...     31.36     32.0000   73600000.0\n",
            "2012-05-24  32.95  33.21  31.77  ...     31.77     33.0300   50237200.0\n",
            "\n",
            "[5 rows x 12 columns]\n"
          ]
        }
      ],
      "source": [
        "#Get the stock data\n",
        "df = quandl.get(\"WIKI/FB\")\n",
        "#Look at the data\n",
        "print(df.head())"
      ]
    },
    {
      "cell_type": "code",
      "execution_count": null,
      "metadata": {
        "colab": {
          "background_save": true
        },
        "id": "I0Tlfu-IAF_l",
        "outputId": "2ec85f3e-b5fd-4049-e226-7d5041e4617c"
      },
      "outputs": [
        {
          "name": "stdout",
          "output_type": "stream",
          "text": [
            "            Adj. Close\n",
            "Date                  \n",
            "2012-05-18     38.2318\n",
            "2012-05-21     34.0300\n",
            "2012-05-22     31.0000\n",
            "2012-05-23     32.0000\n",
            "2012-05-24     33.0300\n"
          ]
        }
      ],
      "source": [
        "#Get the adjusted close price \n",
        "df= df[['Adj. Close']]\n",
        "#take a look at the new data\n",
        "print(df.head())"
      ]
    },
    {
      "cell_type": "code",
      "execution_count": null,
      "metadata": {
        "colab": {
          "background_save": true
        },
        "id": "WVmS1S8uAmY3",
        "outputId": "e23cdba4-e35a-4c1b-a145-652c90db6350"
      },
      "outputs": [
        {
          "name": "stdout",
          "output_type": "stream",
          "text": [
            "            Adj. Close  Prediction\n",
            "Date                              \n",
            "2018-03-21      169.39         NaN\n",
            "2018-03-22      164.89         NaN\n",
            "2018-03-23      159.39         NaN\n",
            "2018-03-26      160.06         NaN\n",
            "2018-03-27      152.19         NaN\n"
          ]
        }
      ],
      "source": [
        "# A variable for predicting 'n' days out into the future. \n",
        "forecast_out= 30\n",
        "#Create another column(the target or dependent variable), it is going to be shifted 'n' units up\n",
        "df['Prediction']= df[['Adj. Close']].shift(-forecast_out)\n",
        "#print out the new data set\n",
        "print(df.tail())\n",
        "#df.head and tail indicate the start and the end of the data set respectively."
      ]
    },
    {
      "cell_type": "code",
      "execution_count": null,
      "metadata": {
        "colab": {
          "background_save": true
        },
        "id": "QtPeK77YMYHU",
        "outputId": "8d87d297-c074-4ade-bc5e-7b8c72f35e45"
      },
      "outputs": [
        {
          "name": "stdout",
          "output_type": "stream",
          "text": [
            "[[ 38.2318]\n",
            " [ 34.03  ]\n",
            " [ 31.    ]\n",
            " ...\n",
            " [171.5499]\n",
            " [175.98  ]\n",
            " [176.41  ]]\n"
          ]
        }
      ],
      "source": [
        "### Create the independent data set (X) #####\n",
        "#convert the dataframe to a numpy array\n",
        "X = np.array(df.drop(['Prediction'],1))\n",
        "#Remove the last 'n' rows\n",
        "X = X[:-forecast_out]\n",
        "print(X)\n",
        "#this is the a dataset which contains list of lists"
      ]
    },
    {
      "cell_type": "code",
      "execution_count": null,
      "metadata": {
        "colab": {
          "background_save": true
        },
        "id": "ca5l9uXVNOck",
        "outputId": "5272be69-08fe-4bec-c22b-67c4351c5e5a"
      },
      "outputs": [
        {
          "name": "stdout",
          "output_type": "stream",
          "text": [
            "[ 30.771  31.2    31.47  ... 159.39  160.06  152.19 ]\n"
          ]
        }
      ],
      "source": [
        "### Create the dependent data set (y) ###\n",
        "# Convert the dataframe to a numpy array (All of the values including the NaN's)\n",
        "y = np.array(df['Prediction'])\n",
        "#Get all of the y values except the last 'n' rows\n",
        "y = y[:-forecast_out]\n",
        "print(y)\n",
        "#this is another data set which contains seperate list."
      ]
    },
    {
      "cell_type": "code",
      "execution_count": null,
      "metadata": {
        "colab": {
          "background_save": true
        },
        "id": "Tb2DWKWAOH2d"
      },
      "outputs": [],
      "source": [
        "# Split the data into 80% training and 20% testing\n",
        "x_train, x_test, y_train, y_test = train_test_split(X, y, test_size= 0.2)"
      ]
    },
    {
      "cell_type": "code",
      "execution_count": null,
      "metadata": {
        "colab": {
          "background_save": true
        },
        "id": "wbhN4JgwPAFw",
        "outputId": "24854069-8f0f-4055-8232-08015c5c8650"
      },
      "outputs": [
        {
          "data": {
            "text/plain": [
              "SVR(C=1000.0, cache_size=200, coef0=0.0, degree=3, epsilon=0.1, gamma=0.1,\n",
              "    kernel='rbf', max_iter=-1, shrinking=True, tol=0.001, verbose=False)"
            ]
          },
          "execution_count": null,
          "metadata": {},
          "output_type": "execute_result"
        }
      ],
      "source": [
        "# Create and train the Support Vector Machine (Regressor)\n",
        "svr_rbf = SVR(kernel='rbf' , C=1e3, gamma=0.1)\n",
        "svr_rbf.fit(x_train,y_train)"
      ]
    },
    {
      "cell_type": "code",
      "execution_count": null,
      "metadata": {
        "colab": {
          "background_save": true
        },
        "id": "hWfoeNiePscl",
        "outputId": "deae2b82-d04f-42d9-bf62-cdfe83b5608a"
      },
      "outputs": [
        {
          "name": "stdout",
          "output_type": "stream",
          "text": [
            "svm confidence 0.9818560855507545\n"
          ]
        }
      ],
      "source": [
        "#Check how good the model works\n",
        "# Testing Model: Score returns the coefficient of determination R^2 of the prediction.\n",
        "# The best possible score is 1.0\n",
        "svm_cinfidence = svr_rbf.score(x_test,y_test)\n",
        "print(\"svm confidence\", svm_cinfidence)\n",
        "#We get a nice confiedence score which is 0.98 which is really close to 1. This is good."
      ]
    },
    {
      "cell_type": "code",
      "execution_count": null,
      "metadata": {
        "colab": {
          "background_save": true
        },
        "id": "bVOIba8pQmum",
        "outputId": "0ec73e51-e14b-4093-8630-9c26e12aff8a"
      },
      "outputs": [
        {
          "data": {
            "text/plain": [
              "LinearRegression(copy_X=True, fit_intercept=True, n_jobs=None, normalize=False)"
            ]
          },
          "execution_count": null,
          "metadata": {},
          "output_type": "execute_result"
        }
      ],
      "source": [
        "#Create and train a linear regression model\n",
        "lr = LinearRegression()\n",
        "#Train the model\n",
        "lr.fit(x_train, y_train)"
      ]
    },
    {
      "cell_type": "code",
      "execution_count": null,
      "metadata": {
        "colab": {
          "background_save": true
        },
        "id": "2CBdsY1KSQcN",
        "outputId": "27f14341-1581-4edc-ffd7-b26093588e6b"
      },
      "outputs": [
        {
          "name": "stdout",
          "output_type": "stream",
          "text": [
            "lr confidence 0.981871596882896\n"
          ]
        }
      ],
      "source": [
        "# Testing Model: Score returns the coefficient of determination R^2 of the prediction.\n",
        "# The best possible score is 1.0\n",
        "#Test the LinearRegression model\n",
        "lr_cinfidence = lr.score(x_test,y_test)\n",
        "print(\"lr confidence\", lr_cinfidence)\n",
        "#lr confidence is 0.982175. So our support vector regressor was better than LinearRegression model."
      ]
    },
    {
      "cell_type": "code",
      "execution_count": null,
      "metadata": {
        "colab": {
          "background_save": true
        },
        "id": "Rm3B9KpuS2tE",
        "outputId": "248f08b8-8e0a-4755-bd8d-2a17333d4a61"
      },
      "outputs": [
        {
          "name": "stdout",
          "output_type": "stream",
          "text": [
            "[[173.15]\n",
            " [179.52]\n",
            " [179.96]\n",
            " [177.36]\n",
            " [176.01]\n",
            " [177.91]\n",
            " [178.99]\n",
            " [183.29]\n",
            " [184.93]\n",
            " [181.46]\n",
            " [178.32]\n",
            " [175.94]\n",
            " [176.62]\n",
            " [180.4 ]\n",
            " [179.78]\n",
            " [183.71]\n",
            " [182.34]\n",
            " [185.23]\n",
            " [184.76]\n",
            " [181.88]\n",
            " [184.19]\n",
            " [183.86]\n",
            " [185.09]\n",
            " [172.56]\n",
            " [168.15]\n",
            " [169.39]\n",
            " [164.89]\n",
            " [159.39]\n",
            " [160.06]\n",
            " [152.19]]\n"
          ]
        }
      ],
      "source": [
        "# Set x_forecast equal to the last 30 rows of the original data set from Adj. Close column \n",
        "x_forecast = np.array(df.drop(['Prediction'],1))[-forecast_out:]\n",
        "print(x_forecast)"
      ]
    },
    {
      "cell_type": "code",
      "execution_count": null,
      "metadata": {
        "colab": {
          "background_save": true
        },
        "id": "fG8RD2BtYAkS",
        "outputId": "84caa466-ff1a-45d3-fee6-96cf89abf5dc"
      },
      "outputs": [
        {
          "name": "stdout",
          "output_type": "stream",
          "text": [
            "[176.80574015 183.22371318 183.66702686 181.04744603 179.68727906\n",
            " 181.60158813 182.68972171 187.02210539 188.67445638 185.1783235\n",
            " 182.01467588 179.61675189 180.30187303 184.11034054 183.48567127\n",
            " 187.44526845 186.06495086 188.9767157  188.50317609 185.60148656\n",
            " 187.92888337 187.59639811 188.83566135 176.2112968  171.7680847\n",
            " 173.01742325 168.48353335 162.94211236 163.61715819 155.68788852]\n",
            "[176.9974223  178.95130718 178.27605434 178.49005158 176.10281325\n",
            " 179.09361673 179.57149488 185.69742314 179.63430838 181.15738665\n",
            " 179.48582807 175.89236039 177.52621025 178.00085221 178.53619007\n",
            " 183.99241685 185.56841035 179.57355549 179.87186691 183.45659859\n",
            " 181.72014888 183.272743   179.54832287 178.99233894 172.65848136\n",
            " 172.76757291 172.23306442 167.57711435 167.04391669 157.62825306]\n"
          ]
        }
      ],
      "source": [
        "#Print LinearRegression model the predictions for the next 'n' days\n",
        "lr_prediction = lr.predict(x_forecast)\n",
        "print(lr_prediction)\n",
        "\n",
        "#Print support vector regressor model the predictions for the next 'n' days\n",
        "svm_prediction = svr_rbf.predict(x_forecast)\n",
        "print(svm_prediction)\n",
        "#Frist we print the LinerRegression model of what the price will be for next 30days. After that it will print the adjusted close price for the next 30 days from our support vector regressor."
      ]
    }
  ],
  "metadata": {
    "colab": {
      "collapsed_sections": [],
      "name": "Simple Stock Prediction Program-Rishi.ipynb",
      "provenance": []
    },
    "kernelspec": {
      "display_name": "Python 3",
      "name": "python3"
    },
    "language_info": {
      "name": "python"
    }
  },
  "nbformat": 4,
  "nbformat_minor": 0
}